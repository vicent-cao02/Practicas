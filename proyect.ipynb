{
 "cells": [
  {
   "cell_type": "markdown",
   "id": "01815413-6541-4aae-9278-995928a67fe1",
   "metadata": {
    "tags": []
   },
   "source": [
    "# La comercializacion actual de productos alimenticios y bebidas en el municipio Centro Habana"
   ]
  },
  {
   "cell_type": "markdown",
   "id": "faeff6dc-6a74-463c-b684-e0e576d1c127",
   "metadata": {},
   "source": [
    "### La dificil situacion economica actual nacional y el impacto del bloqueo comercial y financiero norteamericano atentan contra los precios que se adoptan en los mercados cubanos de \"libre oferta y demanda\" y alcanzan elevados precios en correspondecia con los del sistema de subvencion de los alimentos empleados en Cuba, con un caracter mas especificos en el mercado agropecuario o informal.  "
   ]
  },
  {
   "cell_type": "markdown",
   "id": "09b5beca-1024-40d5-8138-e146e2ca7ea7",
   "metadata": {},
   "source": [
    "### Centro Habana tiene una extensión territorial de 3,42 kilómetros cuadrados lo cual representa sólo el 0,47 % del territorio de toda la provincia de Ciudad de La Habana, siendo el más pequeño de los quince municipios que integran la provincia y a la vez el más densamente poblado.Es un territorio totalmente urbanizado, contando con 514 manzanas y muy pocos espacios libres. Tiene como límite norte, el litoral del Estrecho de La Florida; al sur, el municipio del Cerro; al este, el municipio de La Habana Vieja y al oeste, el de Plaza de la Revolución. "
   ]
  },
  {
   "cell_type": "markdown",
   "id": "d67d35df-3395-40a6-9db8-93f6992a411d",
   "metadata": {
    "tags": []
   },
   "source": [
    "### Por lo que el estudio explora los efectos de la comercializacion de la Cerveza, la Cebolla y la Calabaza en el municipio."
   ]
  },
  {
   "cell_type": "markdown",
   "id": "e63d9547-6243-44e6-bb9d-328343922b66",
   "metadata": {},
   "source": [
    "- ## Estudio exploratorio de la comercializacion de la cerveza:"
   ]
  },
  {
   "cell_type": "code",
   "execution_count": 80,
   "id": "8b62b9a6-1c61-4e0b-8fc4-86d5352166ef",
   "metadata": {},
   "outputs": [],
   "source": [
    "#Importar del json y bibliotecas...\n",
    "import json\n",
    "import numpy as np\n",
    "import pandas as pd\n",
    "import matplotlib.pyplot as plt\n",
    "\n",
    "#Cargar json en un diccionario\n",
    "with open(\"proyecto.json\", \"r\", encoding=\"utf-8\") as file:\n",
    "    dicc = json.load(file)\n",
    "lis_beer = dicc[\"cerveza\"]\n",
    "lis_onion = dicc[\"cebolla\"]\n",
    "lis_calb = dicc[\"calabaza\"]\n"
   ]
  },
  {
   "cell_type": "markdown",
   "id": "04cf1e9d-3ccb-4ee2-964d-570c5df5ecd8",
   "metadata": {},
   "source": [
    "- ### En este trabajo se emplearon la librerias de Matplolib, Pandas y Numpy para la construccion de los graficos."
   ]
  },
  {
   "cell_type": "code",
   "execution_count": 81,
   "id": "04366448-f3fa-4993-8b73-fa3e0b0c4eb8",
   "metadata": {},
   "outputs": [
    {
     "data": {
      "text/html": [
       "<div>\n",
       "<style scoped>\n",
       "    .dataframe tbody tr th:only-of-type {\n",
       "        vertical-align: middle;\n",
       "    }\n",
       "\n",
       "    .dataframe tbody tr th {\n",
       "        vertical-align: top;\n",
       "    }\n",
       "\n",
       "    .dataframe thead th {\n",
       "        text-align: right;\n",
       "    }\n",
       "</style>\n",
       "<table border=\"1\" class=\"dataframe\">\n",
       "  <thead>\n",
       "    <tr style=\"text-align: right;\">\n",
       "      <th></th>\n",
       "      <th>id de foto</th>\n",
       "      <th>marca</th>\n",
       "      <th>envase</th>\n",
       "      <th>color_del_envase</th>\n",
       "      <th>precio</th>\n",
       "      <th>contenido_ml</th>\n",
       "      <th>volumen_de_alcohol_en_%</th>\n",
       "      <th>pais_de_procedencia</th>\n",
       "      <th>loc</th>\n",
       "      <th>municipio</th>\n",
       "      <th>id_foto</th>\n",
       "      <th>localizacion</th>\n",
       "    </tr>\n",
       "  </thead>\n",
       "  <tbody>\n",
       "    <tr>\n",
       "      <th>0</th>\n",
       "      <td>caf 1</td>\n",
       "      <td>hollandia</td>\n",
       "      <td>lata</td>\n",
       "      <td>verde</td>\n",
       "      <td>150</td>\n",
       "      <td>330</td>\n",
       "      <td>4.7</td>\n",
       "      <td>paises bajos</td>\n",
       "      <td>[23.1361, -82.3779]</td>\n",
       "      <td>Centro Habana</td>\n",
       "      <td>NaN</td>\n",
       "      <td>NaN</td>\n",
       "    </tr>\n",
       "    <tr>\n",
       "      <th>1</th>\n",
       "      <td>caf 2</td>\n",
       "      <td>hollandia import</td>\n",
       "      <td>lata</td>\n",
       "      <td>verde</td>\n",
       "      <td>160</td>\n",
       "      <td>330</td>\n",
       "      <td>4.8</td>\n",
       "      <td>paises bajos</td>\n",
       "      <td>[23.1318, -82.3886]</td>\n",
       "      <td>Centro Habana</td>\n",
       "      <td>NaN</td>\n",
       "      <td>NaN</td>\n",
       "    </tr>\n",
       "    <tr>\n",
       "      <th>2</th>\n",
       "      <td>caf 2</td>\n",
       "      <td>unlaguer</td>\n",
       "      <td>lata</td>\n",
       "      <td>azul</td>\n",
       "      <td>150</td>\n",
       "      <td>330</td>\n",
       "      <td>5.0</td>\n",
       "      <td>espanna</td>\n",
       "      <td>[23.062, -82.376]</td>\n",
       "      <td>Centro Habana</td>\n",
       "      <td>NaN</td>\n",
       "      <td>NaN</td>\n",
       "    </tr>\n",
       "    <tr>\n",
       "      <th>3</th>\n",
       "      <td>NaN</td>\n",
       "      <td>Argus</td>\n",
       "      <td>lata</td>\n",
       "      <td>rojo</td>\n",
       "      <td>150</td>\n",
       "      <td>330</td>\n",
       "      <td>5.0</td>\n",
       "      <td>espanna</td>\n",
       "      <td>NaN</td>\n",
       "      <td>Centro Habana</td>\n",
       "      <td>caf 2</td>\n",
       "      <td>[23.1318, -82.3886]</td>\n",
       "    </tr>\n",
       "    <tr>\n",
       "      <th>4</th>\n",
       "      <td>NaN</td>\n",
       "      <td>presidente</td>\n",
       "      <td>lata</td>\n",
       "      <td>verde</td>\n",
       "      <td>140</td>\n",
       "      <td>350</td>\n",
       "      <td>5.0</td>\n",
       "      <td>republica checa</td>\n",
       "      <td>[23.1372, -82.3775]</td>\n",
       "      <td>Centro Habana</td>\n",
       "      <td>caf 3</td>\n",
       "      <td>NaN</td>\n",
       "    </tr>\n",
       "    <tr>\n",
       "      <th>...</th>\n",
       "      <td>...</td>\n",
       "      <td>...</td>\n",
       "      <td>...</td>\n",
       "      <td>...</td>\n",
       "      <td>...</td>\n",
       "      <td>...</td>\n",
       "      <td>...</td>\n",
       "      <td>...</td>\n",
       "      <td>...</td>\n",
       "      <td>...</td>\n",
       "      <td>...</td>\n",
       "      <td>...</td>\n",
       "    </tr>\n",
       "    <tr>\n",
       "      <th>96</th>\n",
       "      <td>NaN</td>\n",
       "      <td>cristal</td>\n",
       "      <td>lata</td>\n",
       "      <td>verde</td>\n",
       "      <td>185</td>\n",
       "      <td>355</td>\n",
       "      <td>4.9</td>\n",
       "      <td>cuba</td>\n",
       "      <td>[23.0879, -82.394]</td>\n",
       "      <td>Centro Habana</td>\n",
       "      <td>caf 26</td>\n",
       "      <td>NaN</td>\n",
       "    </tr>\n",
       "    <tr>\n",
       "      <th>97</th>\n",
       "      <td>NaN</td>\n",
       "      <td>bavaria</td>\n",
       "      <td>lata</td>\n",
       "      <td>azul</td>\n",
       "      <td>150</td>\n",
       "      <td>330</td>\n",
       "      <td>8.6</td>\n",
       "      <td>paises bajos</td>\n",
       "      <td>[23.1307, -82.3647]</td>\n",
       "      <td>Centro Habana</td>\n",
       "      <td>caf 27</td>\n",
       "      <td>NaN</td>\n",
       "    </tr>\n",
       "    <tr>\n",
       "      <th>98</th>\n",
       "      <td>caf 28</td>\n",
       "      <td>unlaguer</td>\n",
       "      <td>lata</td>\n",
       "      <td>azul</td>\n",
       "      <td>180</td>\n",
       "      <td>330</td>\n",
       "      <td>5.0</td>\n",
       "      <td>espanna</td>\n",
       "      <td>[23.1313, -82.3736]</td>\n",
       "      <td>Centro Habana</td>\n",
       "      <td>NaN</td>\n",
       "      <td>NaN</td>\n",
       "    </tr>\n",
       "    <tr>\n",
       "      <th>99</th>\n",
       "      <td>caf 29</td>\n",
       "      <td>hollandia import</td>\n",
       "      <td>lata</td>\n",
       "      <td>verde</td>\n",
       "      <td>150</td>\n",
       "      <td>330</td>\n",
       "      <td>4.8</td>\n",
       "      <td>paises bajos</td>\n",
       "      <td>[23.1336, -82.3783]</td>\n",
       "      <td>Centro Habana</td>\n",
       "      <td>NaN</td>\n",
       "      <td>NaN</td>\n",
       "    </tr>\n",
       "    <tr>\n",
       "      <th>100</th>\n",
       "      <td>caf 30</td>\n",
       "      <td>hollandia</td>\n",
       "      <td>lata</td>\n",
       "      <td>verde</td>\n",
       "      <td>150</td>\n",
       "      <td>330</td>\n",
       "      <td>4.7</td>\n",
       "      <td>paises bajos</td>\n",
       "      <td>[23.1371, -82.3788]</td>\n",
       "      <td>Centro Habana</td>\n",
       "      <td>NaN</td>\n",
       "      <td>NaN</td>\n",
       "    </tr>\n",
       "  </tbody>\n",
       "</table>\n",
       "<p>101 rows × 12 columns</p>\n",
       "</div>"
      ],
      "text/plain": [
       "    id de foto             marca envase color_del_envase  precio  \\\n",
       "0        caf 1         hollandia   lata            verde     150   \n",
       "1        caf 2  hollandia import   lata            verde     160   \n",
       "2        caf 2          unlaguer   lata             azul     150   \n",
       "3          NaN             Argus   lata             rojo     150   \n",
       "4          NaN        presidente   lata            verde     140   \n",
       "..         ...               ...    ...              ...     ...   \n",
       "96         NaN           cristal   lata            verde     185   \n",
       "97         NaN           bavaria   lata             azul     150   \n",
       "98      caf 28          unlaguer   lata             azul     180   \n",
       "99      caf 29  hollandia import   lata            verde     150   \n",
       "100     caf 30         hollandia   lata            verde     150   \n",
       "\n",
       "     contenido_ml  volumen_de_alcohol_en_% pais_de_procedencia  \\\n",
       "0             330                      4.7        paises bajos   \n",
       "1             330                      4.8        paises bajos   \n",
       "2             330                      5.0             espanna   \n",
       "3             330                      5.0             espanna   \n",
       "4             350                      5.0     republica checa   \n",
       "..            ...                      ...                 ...   \n",
       "96            355                      4.9                cuba   \n",
       "97            330                      8.6        paises bajos   \n",
       "98            330                      5.0             espanna   \n",
       "99            330                      4.8        paises bajos   \n",
       "100           330                      4.7        paises bajos   \n",
       "\n",
       "                     loc      municipio id_foto         localizacion  \n",
       "0    [23.1361, -82.3779]  Centro Habana     NaN                  NaN  \n",
       "1    [23.1318, -82.3886]  Centro Habana     NaN                  NaN  \n",
       "2      [23.062, -82.376]  Centro Habana     NaN                  NaN  \n",
       "3                    NaN  Centro Habana   caf 2  [23.1318, -82.3886]  \n",
       "4    [23.1372, -82.3775]  Centro Habana   caf 3                  NaN  \n",
       "..                   ...            ...     ...                  ...  \n",
       "96    [23.0879, -82.394]  Centro Habana  caf 26                  NaN  \n",
       "97   [23.1307, -82.3647]  Centro Habana  caf 27                  NaN  \n",
       "98   [23.1313, -82.3736]  Centro Habana     NaN                  NaN  \n",
       "99   [23.1336, -82.3783]  Centro Habana     NaN                  NaN  \n",
       "100  [23.1371, -82.3788]  Centro Habana     NaN                  NaN  \n",
       "\n",
       "[101 rows x 12 columns]"
      ]
     },
     "execution_count": 81,
     "metadata": {},
     "output_type": "execute_result"
    }
   ],
   "source": [
    "#Tabla de la cerveza \n",
    "board_beer = pd.DataFrame(dicc[\"cerveza\"])#se crea una tabla donde con una estructura que facilita el trabajo\n",
    "board_beer"
   ]
  },
  {
   "cell_type": "code",
   "execution_count": 82,
   "id": "a70b8f19-d76a-4367-9a5f-b91c7837ae4d",
   "metadata": {},
   "outputs": [
    {
     "data": {
      "text/plain": [
       "0    150\n",
       "Name: precio, dtype: int64"
      ]
     },
     "execution_count": 82,
     "metadata": {},
     "output_type": "execute_result"
    }
   ],
   "source": [
    "#Funcion que calcula la moda (Precio)\n",
    "board_beer.precio.mode()"
   ]
  },
  {
   "cell_type": "code",
   "execution_count": 83,
   "id": "c8e82aa7-5dc4-4dad-8653-1203c0c7be89",
   "metadata": {},
   "outputs": [
    {
     "data": {
      "text/plain": [
       "0    hollandia\n",
       "Name: marca, dtype: object"
      ]
     },
     "execution_count": 83,
     "metadata": {},
     "output_type": "execute_result"
    }
   ],
   "source": [
    "#Funcion que calcula la moda (Marca)\n",
    "board_beer.marca.mode()"
   ]
  },
  {
   "cell_type": "code",
   "execution_count": 84,
   "id": "39390e98-c469-45cd-95dc-3ff1840d2869",
   "metadata": {
    "tags": []
   },
   "outputs": [
    {
     "data": {
      "text/plain": [
       "0    lata\n",
       "Name: envase, dtype: object"
      ]
     },
     "execution_count": 84,
     "metadata": {},
     "output_type": "execute_result"
    }
   ],
   "source": [
    "#Funcion que calcula la moda (Envase)\n",
    "board_beer.envase.mode()"
   ]
  },
  {
   "cell_type": "markdown",
   "id": "8aebe4ec-edae-4b28-aa86-ebbe6945689f",
   "metadata": {},
   "source": [
    "- ### Este analisis evidencia que la moda del precio es $ 150 y la ceveza mas vendida en Centro Habana durante este periodo de tiempo es la Hollandia y el tipo de envase es la lata de cerveza.En la tabla se muestra la caracteristicas fundamentales del producto escogido para realizar el estudio."
   ]
  },
  {
   "cell_type": "code",
   "execution_count": 85,
   "id": "ce387ed2-30b5-4a86-93ac-bc7797aed831",
   "metadata": {},
   "outputs": [
    {
     "data": {
      "image/png": "[encoded data removed]",
      "text/plain": [
       "<Figure size 640x480 with 1 Axes>"
      ]
     },
     "metadata": {},
     "output_type": "display_data"
    }
   ],
   "source": [
    "#Grafica de puntos de la cantidad de ml y el precio, utilizando la libreria Matplotib.\n",
    "board_beer.plot.scatter(y =\"contenido_ml\", x = \"precio\")\n",
    "plt.show()"
   ]
  },
  {
   "cell_type": "markdown",
   "id": "a545bb54-af05-4105-baf6-e2d0b70b106f",
   "metadata": {},
   "source": [
    "- ### En esta grafica se puede apreciar que no hay correspondencia entre el contenido en ml y el precio, pues existen cervezas con precios mas altos y con menos contenido."
   ]
  },
  {
   "cell_type": "code",
   "execution_count": 86,
   "id": "29e2226b-6581-4d68-99cd-237da3ac0859",
   "metadata": {},
   "outputs": [
    {
     "data": {
      "image/png": "[encoded data removed]",
      "text/plain": [
       "<Figure size 640x480 with 1 Axes>"
      ]
     },
     "metadata": {},
     "output_type": "display_data"
    }
   ],
   "source": [
    "#Grafica de barra horizontal que muestra el envase mas usado por las marcas de cerveza.\n",
    "grouped_container=board_beer.groupby(['envase', 'color_del_envase']).count()['marca']\n",
    "grouped_container.unstack(level= 0 ).plot.barh() \n",
    "plt.show()"
   ]
  },
  {
   "cell_type": "markdown",
   "id": "d5b1e524-171e-4e32-ac14-4db7400d6aca",
   "metadata": {},
   "source": [
    "- ### Esta grafica evidencia q el envase mas utilizado es la lata de color verde.Tambien se destaca la lata de color blanco y la lata de color azul."
   ]
  },
  {
   "cell_type": "code",
   "execution_count": 88,
   "id": "8041b6ef-1ab6-43b5-9ef0-e13919f5f5cb",
   "metadata": {},
   "outputs": [
    {
     "name": "stdout",
     "output_type": "stream",
     "text": [
      "{'paises bajos': 46, 'espanna': 12, 'republica checa': 5, 'cuba': 18, 'alemania': 10, 'mexico': 6, 'belgica': 4}\n"
     ]
    },
    {
     "data": {
      "image/png": "[encoded data removed]",
      "text/plain": [
       "<Figure size 640x480 with 1 Axes>"
      ]
     },
     "metadata": {},
     "output_type": "display_data"
    }
   ],
   "source": [
    "#Recorrer la lista lis_beer y agregar los elementos al diccionario\n",
    "dicti_continents = {} \n",
    "for item in lis_beer: \n",
    "    if item[\"pais_de_procedencia\"] in dicti_continents: \n",
    "        dicti_continents[item[\"pais_de_procedencia\"]] += 1\n",
    "    else:\n",
    "        dicti_continents[item[\"pais_de_procedencia\"]] = 1\n",
    "\n",
    "print(dicti_continents)\n",
    "\n",
    "#Generar el grafico\n",
    "plt.pie(dicti_continents.values(), labels = dicti_continents.keys(), autopct=\"%0.1f%%\")\n",
    "plt.title(\"Cervezas mas vendidas en Centro Habana por paises\")\n",
    "plt.show()"
   ]
  },
  {
   "cell_type": "markdown",
   "id": "d53781b1-b008-4eb8-b78b-1dc8757423f2",
   "metadata": {},
   "source": [
    "- ### El grafico muestra los indices de cervezas mas vendida en el municipio Centro Habana distibuidas por paises y expresadas en porcientos donde se resaltan los productos de \"paises bajos\" donde resalta la Hollandia y la Hollandia Import."
   ]
  },
  {
   "cell_type": "code",
   "execution_count": 61,
   "id": "3aa54d67-a0f3-4334-832e-b5484abc9a65",
   "metadata": {},
   "outputs": [
    {
     "name": "stdout",
     "output_type": "stream",
     "text": [
      "{'paises bajos': 45, 'espanna': 12, 'republica checa': 5, 'cuba': 18, 'alemania': 10, 'mexico': 6, 'belgica': 4, 'holanda': 1}\n"
     ]
    },
    {
     "data": {
      "image/png": "[encoded data removed]",
      "text/plain": [
       "<Figure size 640x480 with 1 Axes>"
      ]
     },
     "metadata": {},
     "output_type": "display_data"
    }
   ],
   "source": [
    "#Recorrer la lista lis_beer y agregar los elementos al diccionario\n",
    "dicti_countries = {}\n",
    "for item in lis_beer:\n",
    "    if item[\"pais_de_procedencia\"] in dicti_countries:\n",
    "        dicti_countries[item[\"pais_de_procedencia\"]] += 1\n",
    "    else:\n",
    "        dicti_countries[item[\"pais_de_procedencia\"]] = 1\n",
    "\n",
    "print(dicti_countries)\n",
    "\n",
    "#Recorrer el diccicionario y agregar los valores al nuevo diccionario\n",
    "aux ={}\n",
    "other = 0\n",
    "for country in dicti_countries:\n",
    "    if dicti_countries[country] > 5.0:\n",
    "        aux[country] = dicti_countries[country]\n",
    "    else:\n",
    "        other += dicti_countries[country]\n",
    "aux[\"Other\"] = other\n",
    "dicti_countries = aux\n",
    "\n",
    "#Generar el grafico\n",
    "plt.pie(dicti_countries.values(), labels = dicti_countries.keys(), autopct=\"%0.1f%%\")\n",
    "center_circle= plt.Circle((0,0), 0.40, fc='white')\n",
    "fig = plt.gcf()\n",
    "fig.gca().add_artist(center_circle)\n",
    "\n",
    "plt.title(\"Mayores exportadores de cerveza por paises\")\n",
    "plt.show()"
   ]
  },
  {
   "cell_type": "code",
   "execution_count": 62,
   "id": "2a68bb92-f845-4cf6-822f-72d03850d2e9",
   "metadata": {},
   "outputs": [],
   "source": [
    "#Crear un nuevo DataFrame con la columna marca del DataFrame board_beer y contar los valores\n",
    "serie_marca = pd.DataFrame(board_beer.marca.value_counts())\n",
    "\n",
    "#Renombrar la columna marca\n",
    "serie_marca = serie_marca.rename({\"marca\":\"count\"}, axis=1)"
   ]
  },
  {
   "cell_type": "code",
   "execution_count": 71,
   "id": "b21ebaa0-547b-47ff-a12e-152d1c71c236",
   "metadata": {},
   "outputs": [
    {
     "data": {
      "image/png": "[encoded data removed]",
      "text/plain": [
       "<Figure size 640x480 with 1 Axes>"
      ]
     },
     "metadata": {},
     "output_type": "display_data"
    }
   ],
   "source": [
    "#Generar el grafico\n",
    "serie_marca.plot(kind= \"bar\",color = \"blue\")\n",
    "plt.show()"
   ]
  },
  {
   "cell_type": "markdown",
   "id": "bf04c652-40f8-427a-a393-19042c50f7fe",
   "metadata": {},
   "source": [
    "- ### Este grafico representa la marca de cerveza mas comercializada (Hollandia) durante el estudio, en virtud de la frecuencia en que se repite cada una de las marcas."
   ]
  },
  {
   "cell_type": "markdown",
   "id": "8a64944f-8f1b-4a5d-9c6d-c883cfca4a8c",
   "metadata": {},
   "source": [
    "+ # Estudio exploratorio de la comercializacion de la Cebolla:"
   ]
  },
  {
   "cell_type": "code",
   "execution_count": 97,
   "id": "951eabdf-32ef-410e-8f17-55fd21fac0f3",
   "metadata": {},
   "outputs": [
    {
     "data": {
      "text/html": [
       "<div>\n",
       "<style scoped>\n",
       "    .dataframe tbody tr th:only-of-type {\n",
       "        vertical-align: middle;\n",
       "    }\n",
       "\n",
       "    .dataframe tbody tr th {\n",
       "        vertical-align: top;\n",
       "    }\n",
       "\n",
       "    .dataframe thead th {\n",
       "        text-align: right;\n",
       "    }\n",
       "</style>\n",
       "<table border=\"1\" class=\"dataframe\">\n",
       "  <thead>\n",
       "    <tr style=\"text-align: right;\">\n",
       "      <th></th>\n",
       "      <th>tamanno</th>\n",
       "      <th>precio</th>\n",
       "      <th>tipo</th>\n",
       "      <th>color</th>\n",
       "      <th>loc</th>\n",
       "      <th>municipio</th>\n",
       "    </tr>\n",
       "  </thead>\n",
       "  <tbody>\n",
       "    <tr>\n",
       "      <th>0</th>\n",
       "      <td>grande</td>\n",
       "      <td>180</td>\n",
       "      <td>libra</td>\n",
       "      <td>blanco</td>\n",
       "      <td>[23.1312, -82.3688]</td>\n",
       "      <td>Centro Habana</td>\n",
       "    </tr>\n",
       "    <tr>\n",
       "      <th>1</th>\n",
       "      <td>pequenno</td>\n",
       "      <td>100</td>\n",
       "      <td>mazo</td>\n",
       "      <td>morada</td>\n",
       "      <td>[23.1312, -82.3688]</td>\n",
       "      <td>Centro Habana</td>\n",
       "    </tr>\n",
       "    <tr>\n",
       "      <th>2</th>\n",
       "      <td>grande</td>\n",
       "      <td>200</td>\n",
       "      <td>libra</td>\n",
       "      <td>blanco</td>\n",
       "      <td>[23.1312, -82.3688]</td>\n",
       "      <td>Centro Habana</td>\n",
       "    </tr>\n",
       "    <tr>\n",
       "      <th>3</th>\n",
       "      <td>pequenno</td>\n",
       "      <td>180</td>\n",
       "      <td>libra</td>\n",
       "      <td>morada</td>\n",
       "      <td>[23.1312, -82.3688]</td>\n",
       "      <td>Centro Habana</td>\n",
       "    </tr>\n",
       "    <tr>\n",
       "      <th>4</th>\n",
       "      <td>mediano</td>\n",
       "      <td>180</td>\n",
       "      <td>libra</td>\n",
       "      <td>blanco</td>\n",
       "      <td>[23.1312, -82.3688]</td>\n",
       "      <td>Centro Habana</td>\n",
       "    </tr>\n",
       "    <tr>\n",
       "      <th>5</th>\n",
       "      <td>grande</td>\n",
       "      <td>200</td>\n",
       "      <td>libra</td>\n",
       "      <td>blanco</td>\n",
       "      <td>[23.1312, -82.3688]</td>\n",
       "      <td>Centro Habana</td>\n",
       "    </tr>\n",
       "    <tr>\n",
       "      <th>6</th>\n",
       "      <td>mediano</td>\n",
       "      <td>190</td>\n",
       "      <td>libra</td>\n",
       "      <td>morada</td>\n",
       "      <td>[23.1312, -82.3688]</td>\n",
       "      <td>Centro Habana</td>\n",
       "    </tr>\n",
       "    <tr>\n",
       "      <th>7</th>\n",
       "      <td>mediano</td>\n",
       "      <td>180</td>\n",
       "      <td>mazo</td>\n",
       "      <td>morada</td>\n",
       "      <td>[23.1312, -82.3688]</td>\n",
       "      <td>Centro Habana</td>\n",
       "    </tr>\n",
       "    <tr>\n",
       "      <th>8</th>\n",
       "      <td>pequenno</td>\n",
       "      <td>140</td>\n",
       "      <td>libra</td>\n",
       "      <td>blanco</td>\n",
       "      <td>[23.1372, -82.3782]</td>\n",
       "      <td>Centro Habana</td>\n",
       "    </tr>\n",
       "    <tr>\n",
       "      <th>9</th>\n",
       "      <td>pequenno</td>\n",
       "      <td>140</td>\n",
       "      <td>libra</td>\n",
       "      <td>morada</td>\n",
       "      <td>[23.1372, -82.3782]</td>\n",
       "      <td>Centro Habana</td>\n",
       "    </tr>\n",
       "    <tr>\n",
       "      <th>10</th>\n",
       "      <td>pequenno</td>\n",
       "      <td>140</td>\n",
       "      <td>libra</td>\n",
       "      <td>morada</td>\n",
       "      <td>[23.1267, -82.3677]</td>\n",
       "      <td>Centro Habana</td>\n",
       "    </tr>\n",
       "    <tr>\n",
       "      <th>11</th>\n",
       "      <td>pequenno</td>\n",
       "      <td>140</td>\n",
       "      <td>libra</td>\n",
       "      <td>blanco</td>\n",
       "      <td>[23.1267, -82.3677]</td>\n",
       "      <td>Centro Habana</td>\n",
       "    </tr>\n",
       "    <tr>\n",
       "      <th>12</th>\n",
       "      <td>pequenno</td>\n",
       "      <td>150</td>\n",
       "      <td>libra</td>\n",
       "      <td>morada</td>\n",
       "      <td>[23.1176, -82.3704]</td>\n",
       "      <td>Centro Habana</td>\n",
       "    </tr>\n",
       "    <tr>\n",
       "      <th>13</th>\n",
       "      <td>mediano</td>\n",
       "      <td>200</td>\n",
       "      <td>libra</td>\n",
       "      <td>blanco</td>\n",
       "      <td>[23.1357, -82.37]</td>\n",
       "      <td>Centro Habana</td>\n",
       "    </tr>\n",
       "    <tr>\n",
       "      <th>14</th>\n",
       "      <td>mediano</td>\n",
       "      <td>200</td>\n",
       "      <td>libra</td>\n",
       "      <td>morada</td>\n",
       "      <td>[23.1357, -82.37]</td>\n",
       "      <td>Centro Habana</td>\n",
       "    </tr>\n",
       "    <tr>\n",
       "      <th>15</th>\n",
       "      <td>pequenno</td>\n",
       "      <td>100</td>\n",
       "      <td>mazo</td>\n",
       "      <td>morada</td>\n",
       "      <td>[23.1347, -82.3733]</td>\n",
       "      <td>Centro Habana</td>\n",
       "    </tr>\n",
       "    <tr>\n",
       "      <th>16</th>\n",
       "      <td>pequenno</td>\n",
       "      <td>130</td>\n",
       "      <td>libra</td>\n",
       "      <td>morada</td>\n",
       "      <td>[23.1347, -82.3733]</td>\n",
       "      <td>Centro Habana</td>\n",
       "    </tr>\n",
       "    <tr>\n",
       "      <th>17</th>\n",
       "      <td>mediano</td>\n",
       "      <td>200</td>\n",
       "      <td>libra</td>\n",
       "      <td>blanco</td>\n",
       "      <td>[23.1347, -82.3733]</td>\n",
       "      <td>Centro Habana</td>\n",
       "    </tr>\n",
       "    <tr>\n",
       "      <th>18</th>\n",
       "      <td>mediano</td>\n",
       "      <td>200</td>\n",
       "      <td>libra</td>\n",
       "      <td>morada</td>\n",
       "      <td>[23.1347, -82.3733]</td>\n",
       "      <td>Centro Habana</td>\n",
       "    </tr>\n",
       "    <tr>\n",
       "      <th>19</th>\n",
       "      <td>grande</td>\n",
       "      <td>200</td>\n",
       "      <td>libra</td>\n",
       "      <td>blanco</td>\n",
       "      <td>[23.1323, -82.3674]</td>\n",
       "      <td>Centro Habana</td>\n",
       "    </tr>\n",
       "    <tr>\n",
       "      <th>20</th>\n",
       "      <td>mediano</td>\n",
       "      <td>180</td>\n",
       "      <td>libra</td>\n",
       "      <td>blanco</td>\n",
       "      <td>[23.1372, -82.3613]</td>\n",
       "      <td>Centro Habana</td>\n",
       "    </tr>\n",
       "    <tr>\n",
       "      <th>21</th>\n",
       "      <td>mediano</td>\n",
       "      <td>180</td>\n",
       "      <td>libra</td>\n",
       "      <td>morada</td>\n",
       "      <td>[23.1372, -82.3613]</td>\n",
       "      <td>Centro Habana</td>\n",
       "    </tr>\n",
       "    <tr>\n",
       "      <th>22</th>\n",
       "      <td>mediano</td>\n",
       "      <td>180</td>\n",
       "      <td>libra</td>\n",
       "      <td>blanco</td>\n",
       "      <td>[23.1394, -82.362]</td>\n",
       "      <td>Centro Habana</td>\n",
       "    </tr>\n",
       "    <tr>\n",
       "      <th>23</th>\n",
       "      <td>mediano</td>\n",
       "      <td>180</td>\n",
       "      <td>libra</td>\n",
       "      <td>morada</td>\n",
       "      <td>[23.1394, -82.362]</td>\n",
       "      <td>Centro Habana</td>\n",
       "    </tr>\n",
       "    <tr>\n",
       "      <th>24</th>\n",
       "      <td>mediano</td>\n",
       "      <td>190</td>\n",
       "      <td>libra</td>\n",
       "      <td>blanco</td>\n",
       "      <td>[23.1357, -82.3701]</td>\n",
       "      <td>Centro Habana</td>\n",
       "    </tr>\n",
       "    <tr>\n",
       "      <th>25</th>\n",
       "      <td>mediano</td>\n",
       "      <td>180</td>\n",
       "      <td>libra</td>\n",
       "      <td>morada</td>\n",
       "      <td>[23.1357, -82.3701]</td>\n",
       "      <td>Centro Habana</td>\n",
       "    </tr>\n",
       "    <tr>\n",
       "      <th>26</th>\n",
       "      <td>mediano</td>\n",
       "      <td>160</td>\n",
       "      <td>libra</td>\n",
       "      <td>blanco</td>\n",
       "      <td>[23.1344, -82.3726]</td>\n",
       "      <td>Centro Habana</td>\n",
       "    </tr>\n",
       "    <tr>\n",
       "      <th>27</th>\n",
       "      <td>pequenno</td>\n",
       "      <td>150</td>\n",
       "      <td>libra</td>\n",
       "      <td>blanco</td>\n",
       "      <td>[23.1383, -82.3671]</td>\n",
       "      <td>Centro Habana</td>\n",
       "    </tr>\n",
       "    <tr>\n",
       "      <th>28</th>\n",
       "      <td>pequenno</td>\n",
       "      <td>150</td>\n",
       "      <td>libra</td>\n",
       "      <td>morada</td>\n",
       "      <td>[23.1383, -82.3671]</td>\n",
       "      <td>Centro Habana</td>\n",
       "    </tr>\n",
       "    <tr>\n",
       "      <th>29</th>\n",
       "      <td>pequenno</td>\n",
       "      <td>160</td>\n",
       "      <td>libra</td>\n",
       "      <td>blanco</td>\n",
       "      <td>[23.1447, -82.3569]</td>\n",
       "      <td>Centro Habana</td>\n",
       "    </tr>\n",
       "    <tr>\n",
       "      <th>30</th>\n",
       "      <td>pequenno</td>\n",
       "      <td>160</td>\n",
       "      <td>libra</td>\n",
       "      <td>morada</td>\n",
       "      <td>[23.1447, -82.3569]</td>\n",
       "      <td>Centro Habana</td>\n",
       "    </tr>\n",
       "    <tr>\n",
       "      <th>31</th>\n",
       "      <td>mediano</td>\n",
       "      <td>180</td>\n",
       "      <td>libra</td>\n",
       "      <td>morada</td>\n",
       "      <td>[23.1327, -82.3713]</td>\n",
       "      <td>Centro Habana</td>\n",
       "    </tr>\n",
       "  </tbody>\n",
       "</table>\n",
       "</div>"
      ],
      "text/plain": [
       "     tamanno  precio   tipo   color                  loc      municipio\n",
       "0     grande     180  libra  blanco  [23.1312, -82.3688]  Centro Habana\n",
       "1   pequenno     100   mazo  morada  [23.1312, -82.3688]  Centro Habana\n",
       "2     grande     200  libra  blanco  [23.1312, -82.3688]  Centro Habana\n",
       "3   pequenno     180  libra  morada  [23.1312, -82.3688]  Centro Habana\n",
       "4    mediano     180  libra  blanco  [23.1312, -82.3688]  Centro Habana\n",
       "5     grande     200  libra  blanco  [23.1312, -82.3688]  Centro Habana\n",
       "6    mediano     190  libra  morada  [23.1312, -82.3688]  Centro Habana\n",
       "7    mediano     180   mazo  morada  [23.1312, -82.3688]  Centro Habana\n",
       "8   pequenno     140  libra  blanco  [23.1372, -82.3782]  Centro Habana\n",
       "9   pequenno     140  libra  morada  [23.1372, -82.3782]  Centro Habana\n",
       "10  pequenno     140  libra  morada  [23.1267, -82.3677]  Centro Habana\n",
       "11  pequenno     140  libra  blanco  [23.1267, -82.3677]  Centro Habana\n",
       "12  pequenno     150  libra  morada  [23.1176, -82.3704]  Centro Habana\n",
       "13   mediano     200  libra  blanco    [23.1357, -82.37]  Centro Habana\n",
       "14   mediano     200  libra  morada    [23.1357, -82.37]  Centro Habana\n",
       "15  pequenno     100   mazo  morada  [23.1347, -82.3733]  Centro Habana\n",
       "16  pequenno     130  libra  morada  [23.1347, -82.3733]  Centro Habana\n",
       "17   mediano     200  libra  blanco  [23.1347, -82.3733]  Centro Habana\n",
       "18   mediano     200  libra  morada  [23.1347, -82.3733]  Centro Habana\n",
       "19    grande     200  libra  blanco  [23.1323, -82.3674]  Centro Habana\n",
       "20   mediano     180  libra  blanco  [23.1372, -82.3613]  Centro Habana\n",
       "21   mediano     180  libra  morada  [23.1372, -82.3613]  Centro Habana\n",
       "22   mediano     180  libra  blanco   [23.1394, -82.362]  Centro Habana\n",
       "23   mediano     180  libra  morada   [23.1394, -82.362]  Centro Habana\n",
       "24   mediano     190  libra  blanco  [23.1357, -82.3701]  Centro Habana\n",
       "25   mediano     180  libra  morada  [23.1357, -82.3701]  Centro Habana\n",
       "26   mediano     160  libra  blanco  [23.1344, -82.3726]  Centro Habana\n",
       "27  pequenno     150  libra  blanco  [23.1383, -82.3671]  Centro Habana\n",
       "28  pequenno     150  libra  morada  [23.1383, -82.3671]  Centro Habana\n",
       "29  pequenno     160  libra  blanco  [23.1447, -82.3569]  Centro Habana\n",
       "30  pequenno     160  libra  morada  [23.1447, -82.3569]  Centro Habana\n",
       "31   mediano     180  libra  morada  [23.1327, -82.3713]  Centro Habana"
      ]
     },
     "execution_count": 97,
     "metadata": {},
     "output_type": "execute_result"
    }
   ],
   "source": [
    "#tabla de la cebolla.\n",
    "board_onion = pd.DataFrame(dicc[\"cebolla\"])#se crea una tabla donde con una estructura que facilita el trabajo. \n",
    "board_onion"
   ]
  },
  {
   "cell_type": "code",
   "execution_count": 103,
   "id": "4aeb7fa9-bb5b-49be-aeaa-6e4e2430a2ef",
   "metadata": {},
   "outputs": [
    {
     "data": {
      "text/plain": [
       "0    180\n",
       "Name: precio, dtype: int64"
      ]
     },
     "execution_count": 103,
     "metadata": {},
     "output_type": "execute_result"
    }
   ],
   "source": [
    "board_onion.precio.mode()"
   ]
  },
  {
   "cell_type": "code",
   "execution_count": 99,
   "id": "39ac6bbf-1f67-47f9-aaba-061301a0e3b8",
   "metadata": {},
   "outputs": [],
   "source": [
    "#Metodo que devuelve la informacion estadistica y guardado en la variable onion\n",
    "onion = board_onion.describe()"
   ]
  },
  {
   "cell_type": "code",
   "execution_count": 100,
   "id": "984b14c1-1db8-4477-9a74-b16a4ea5e6f3",
   "metadata": {},
   "outputs": [
    {
     "data": {
      "image/png": "[encoded data removed]",
      "text/plain": [
       "<Figure size 640x480 with 1 Axes>"
      ]
     },
     "metadata": {},
     "output_type": "display_data"
    }
   ],
   "source": [
    "#Funcion que cuenta los valores que se repiten en una columna de DataFrame\n",
    "serie_tipo = board_onion.tipo.value_counts()\n",
    "\n",
    "#Generar el grafico\n",
    "serie_tipo.plot.pie(autopct = '%0.1f%%')\n",
    "plt.show()"
   ]
  },
  {
   "cell_type": "code",
   "execution_count": 93,
   "id": "50678c9d-d8d2-49b2-b216-5e98bc9bdba6",
   "metadata": {},
   "outputs": [
    {
     "data": {
      "image/png": "[encoded data removed]",
      "text/plain": [
       "<Figure size 640x480 with 1 Axes>"
      ]
     },
     "metadata": {},
     "output_type": "display_data"
    }
   ],
   "source": [
    "#crea una grafica de barra horizontal, y le annade color azul a la misma\n",
    "serie_color.plot.barh( color = \"blue\" )\n",
    "plt.show()"
   ]
  },
  {
   "cell_type": "markdown",
   "id": "fe059ab6-19ad-4a79-9331-0614e1403992",
   "metadata": {},
   "source": [
    "- # Estudio exploratorio de la comercializacion de la Calabaza:"
   ]
  },
  {
   "cell_type": "code",
   "execution_count": 94,
   "id": "62e32430-5f27-42e6-90fd-a97b3ebd39be",
   "metadata": {},
   "outputs": [
    {
     "data": {
      "text/html": [
       "<div>\n",
       "<style scoped>\n",
       "    .dataframe tbody tr th:only-of-type {\n",
       "        vertical-align: middle;\n",
       "    }\n",
       "\n",
       "    .dataframe tbody tr th {\n",
       "        vertical-align: top;\n",
       "    }\n",
       "\n",
       "    .dataframe thead th {\n",
       "        text-align: right;\n",
       "    }\n",
       "</style>\n",
       "<table border=\"1\" class=\"dataframe\">\n",
       "  <thead>\n",
       "    <tr style=\"text-align: right;\">\n",
       "      <th></th>\n",
       "      <th>precio</th>\n",
       "      <th>tipo</th>\n",
       "      <th>loc</th>\n",
       "      <th>municipio</th>\n",
       "    </tr>\n",
       "  </thead>\n",
       "  <tbody>\n",
       "    <tr>\n",
       "      <th>0</th>\n",
       "      <td>40</td>\n",
       "      <td>libra</td>\n",
       "      <td>[23.1312, -82.3688]</td>\n",
       "      <td>Centro Habana</td>\n",
       "    </tr>\n",
       "    <tr>\n",
       "      <th>1</th>\n",
       "      <td>40</td>\n",
       "      <td>libra</td>\n",
       "      <td>[23.1311, -82.3762]</td>\n",
       "      <td>Centro Habana</td>\n",
       "    </tr>\n",
       "    <tr>\n",
       "      <th>2</th>\n",
       "      <td>30</td>\n",
       "      <td>libra</td>\n",
       "      <td>[23.1372, -82.3782]</td>\n",
       "      <td>Centro Habana</td>\n",
       "    </tr>\n",
       "    <tr>\n",
       "      <th>3</th>\n",
       "      <td>30</td>\n",
       "      <td>libra</td>\n",
       "      <td>[23.1267, -82.3677]</td>\n",
       "      <td>Centro Habana</td>\n",
       "    </tr>\n",
       "    <tr>\n",
       "      <th>4</th>\n",
       "      <td>30</td>\n",
       "      <td>libra</td>\n",
       "      <td>[23.1176, -82.3704]</td>\n",
       "      <td>Centro Habana</td>\n",
       "    </tr>\n",
       "    <tr>\n",
       "      <th>5</th>\n",
       "      <td>40</td>\n",
       "      <td>libra</td>\n",
       "      <td>[23.1357, -82.37]</td>\n",
       "      <td>Centro Habana</td>\n",
       "    </tr>\n",
       "    <tr>\n",
       "      <th>6</th>\n",
       "      <td>30</td>\n",
       "      <td>libra</td>\n",
       "      <td>[23.1347, -82.3733]</td>\n",
       "      <td>Centro Habana</td>\n",
       "    </tr>\n",
       "    <tr>\n",
       "      <th>7</th>\n",
       "      <td>40</td>\n",
       "      <td>libra</td>\n",
       "      <td>[23.1347, -82.3733]</td>\n",
       "      <td>Centro Habana</td>\n",
       "    </tr>\n",
       "    <tr>\n",
       "      <th>8</th>\n",
       "      <td>40</td>\n",
       "      <td>libra</td>\n",
       "      <td>[23.1323, -82.3674]</td>\n",
       "      <td>Centro Habana</td>\n",
       "    </tr>\n",
       "    <tr>\n",
       "      <th>9</th>\n",
       "      <td>40</td>\n",
       "      <td>libra</td>\n",
       "      <td>[23.1323, -82.3674]</td>\n",
       "      <td>Centro Habana</td>\n",
       "    </tr>\n",
       "    <tr>\n",
       "      <th>10</th>\n",
       "      <td>30</td>\n",
       "      <td>libra</td>\n",
       "      <td>[23.1372, -82.3613]</td>\n",
       "      <td>Centro Habana</td>\n",
       "    </tr>\n",
       "    <tr>\n",
       "      <th>11</th>\n",
       "      <td>40</td>\n",
       "      <td>libra</td>\n",
       "      <td>[23.1394, -82.362]</td>\n",
       "      <td>Centro Habana</td>\n",
       "    </tr>\n",
       "    <tr>\n",
       "      <th>12</th>\n",
       "      <td>40</td>\n",
       "      <td>libra</td>\n",
       "      <td>[23.1394, -82.362]</td>\n",
       "      <td>Centro Habana</td>\n",
       "    </tr>\n",
       "    <tr>\n",
       "      <th>13</th>\n",
       "      <td>40</td>\n",
       "      <td>libra</td>\n",
       "      <td>[23.1357, -82.3701]</td>\n",
       "      <td>Centro Habana</td>\n",
       "    </tr>\n",
       "    <tr>\n",
       "      <th>14</th>\n",
       "      <td>50</td>\n",
       "      <td>libra</td>\n",
       "      <td>[23.1357, -82.3701]</td>\n",
       "      <td>Centro Habana</td>\n",
       "    </tr>\n",
       "    <tr>\n",
       "      <th>15</th>\n",
       "      <td>30</td>\n",
       "      <td>libra</td>\n",
       "      <td>[23.1344, -82.3726]</td>\n",
       "      <td>Centro Habana</td>\n",
       "    </tr>\n",
       "    <tr>\n",
       "      <th>16</th>\n",
       "      <td>50</td>\n",
       "      <td>libra</td>\n",
       "      <td>[23.1379, -82.3694]</td>\n",
       "      <td>Centro Habana</td>\n",
       "    </tr>\n",
       "    <tr>\n",
       "      <th>17</th>\n",
       "      <td>50</td>\n",
       "      <td>libra</td>\n",
       "      <td>[23.1379, -82.3694]</td>\n",
       "      <td>Centro Habana</td>\n",
       "    </tr>\n",
       "    <tr>\n",
       "      <th>18</th>\n",
       "      <td>40</td>\n",
       "      <td>libra</td>\n",
       "      <td>[23.1383, -82.3671]</td>\n",
       "      <td>Centro Habana</td>\n",
       "    </tr>\n",
       "    <tr>\n",
       "      <th>19</th>\n",
       "      <td>40</td>\n",
       "      <td>libra</td>\n",
       "      <td>[23.1447, -82.3569]</td>\n",
       "      <td>Centro Habana</td>\n",
       "    </tr>\n",
       "    <tr>\n",
       "      <th>20</th>\n",
       "      <td>40</td>\n",
       "      <td>libra</td>\n",
       "      <td>[23.1327, -82.3681]</td>\n",
       "      <td>Centro Habana</td>\n",
       "    </tr>\n",
       "    <tr>\n",
       "      <th>21</th>\n",
       "      <td>40</td>\n",
       "      <td>libra</td>\n",
       "      <td>[23.1327, -82.3713]</td>\n",
       "      <td>Centro Habana</td>\n",
       "    </tr>\n",
       "  </tbody>\n",
       "</table>\n",
       "</div>"
      ],
      "text/plain": [
       "    precio   tipo                  loc      municipio\n",
       "0       40  libra  [23.1312, -82.3688]  Centro Habana\n",
       "1       40  libra  [23.1311, -82.3762]  Centro Habana\n",
       "2       30  libra  [23.1372, -82.3782]  Centro Habana\n",
       "3       30  libra  [23.1267, -82.3677]  Centro Habana\n",
       "4       30  libra  [23.1176, -82.3704]  Centro Habana\n",
       "5       40  libra    [23.1357, -82.37]  Centro Habana\n",
       "6       30  libra  [23.1347, -82.3733]  Centro Habana\n",
       "7       40  libra  [23.1347, -82.3733]  Centro Habana\n",
       "8       40  libra  [23.1323, -82.3674]  Centro Habana\n",
       "9       40  libra  [23.1323, -82.3674]  Centro Habana\n",
       "10      30  libra  [23.1372, -82.3613]  Centro Habana\n",
       "11      40  libra   [23.1394, -82.362]  Centro Habana\n",
       "12      40  libra   [23.1394, -82.362]  Centro Habana\n",
       "13      40  libra  [23.1357, -82.3701]  Centro Habana\n",
       "14      50  libra  [23.1357, -82.3701]  Centro Habana\n",
       "15      30  libra  [23.1344, -82.3726]  Centro Habana\n",
       "16      50  libra  [23.1379, -82.3694]  Centro Habana\n",
       "17      50  libra  [23.1379, -82.3694]  Centro Habana\n",
       "18      40  libra  [23.1383, -82.3671]  Centro Habana\n",
       "19      40  libra  [23.1447, -82.3569]  Centro Habana\n",
       "20      40  libra  [23.1327, -82.3681]  Centro Habana\n",
       "21      40  libra  [23.1327, -82.3713]  Centro Habana"
      ]
     },
     "execution_count": 94,
     "metadata": {},
     "output_type": "execute_result"
    }
   ],
   "source": [
    "#tabla de la calabazaboard_calb.board\n",
    "board_calb = pd.DataFrame(dicc[\"calabaza\"])#se crea una tabla donde con una estructura que facilita el trabajo. \n",
    "board_calb"
   ]
  },
  {
   "cell_type": "code",
   "execution_count": 102,
   "id": "0ca342ff-2ea7-462a-b63c-11c85c3852a2",
   "metadata": {},
   "outputs": [
    {
     "data": {
      "text/plain": [
       "0    40\n",
       "Name: precio, dtype: int64"
      ]
     },
     "execution_count": 102,
     "metadata": {},
     "output_type": "execute_result"
    }
   ],
   "source": [
    "board_calb.precio.mode()"
   ]
  },
  {
   "cell_type": "code",
   "execution_count": null,
   "id": "93917369-1c05-4e31-8134-c9ea4c7e5454",
   "metadata": {},
   "outputs": [],
   "source": []
  }
 ],
 "metadata": {
  "kernelspec": {
   "display_name": "Python 3 (ipykernel)",
   "language": "python",
   "name": "python3"
  },
  "language_info": {
   "codemirror_mode": {
    "name": "ipython",
    "version": 3
   },
   "file_extension": ".py",
   "mimetype": "text/x-python",
   "name": "python",
   "nbconvert_exporter": "python",
   "pygments_lexer": "ipython3",
   "version": "3.9.13"
  }
 },
 "nbformat": 4,
 "nbformat_minor": 5
}
